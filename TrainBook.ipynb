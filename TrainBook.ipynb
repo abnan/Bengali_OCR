{
 "cells": [
  {
   "cell_type": "code",
   "execution_count": 1,
   "metadata": {},
   "outputs": [],
   "source": [
    "import torch\n",
    "import torch.nn as nn\n",
    "import torch.nn.functional as F\n",
    "import numpy as np\n",
    "import seaborn as sn\n",
    "import pandas as pd\n",
    "import matplotlib.pyplot as plt\n",
    "from PIL import Image\n",
    "from torch.utils.data import Dataset, DataLoader\n",
    "from torchvision import transforms, utils, models\n",
    "import torch.optim as optim\n",
    "from sklearn.model_selection import train_test_split\n",
    "import os\n",
    "from skimage import io, transform\n",
    "from utils import BengaliCharactersDataset\n",
    "from sklearn.model_selection import train_test_split\n",
    "from torch.utils.tensorboard import SummaryWriter\n",
    "from tqdm.notebook import trange, tqdm\n",
    "device = torch.device(\"cuda:0\" if torch.cuda.is_available() else \"cpu\")"
   ]
  },
  {
   "cell_type": "code",
   "execution_count": 2,
   "metadata": {},
   "outputs": [],
   "source": [
    "df_train_csv = pd.read_csv(\"train.csv\")\n",
    "\n",
    "X = df_train_csv.pop('image_id').to_frame()\n",
    "df_train_csv.pop('grapheme')\n",
    "y = df_train_csv"
   ]
  },
  {
   "cell_type": "code",
   "execution_count": 3,
   "metadata": {},
   "outputs": [],
   "source": [
    "X_train, X_val, y_train, y_val = train_test_split(\n",
    "        X, y,stratify=y, test_size=0.2)\n",
    "\n",
    "data_transform = transforms.Compose([\n",
    "        transforms.ToPILImage(),\n",
    "        transforms.Resize((224,224)),\n",
    "        transforms.Grayscale(num_output_channels=3),\n",
    "        transforms.ToTensor(),\n",
    "        transforms.Normalize(mean=[0.9469, 0.9469, 0.9469],\n",
    "                             std=[0.1623, 0.1623, 0.1623]),\n",
    "    ])\n",
    "\n",
    "train_dataset = BengaliCharactersDataset(data=(X_train, y_train), root_dir='data/entire_dataset/', transform = data_transform)\n",
    "val_dataset = BengaliCharactersDataset(data=(X_val, y_val), root_dir='data/entire_dataset/', transform = data_transform)\n",
    "\n",
    "train_dataloader = DataLoader(train_dataset, batch_size=32, shuffle=True, num_workers=10)\n",
    "val_dataloader = DataLoader(val_dataset, batch_size=32, shuffle=True, num_workers=10)\n"
   ]
  },
  {
   "cell_type": "code",
   "execution_count": 4,
   "metadata": {},
   "outputs": [],
   "source": [
    "def calc_dataset_loss(data_loader):\n",
    "    total = 0\n",
    "\n",
    "    correct_grapheme = 0\n",
    "\n",
    "    correct_vowel = 0\n",
    "\n",
    "    correct_consonant = 0\n",
    "    \n",
    "    predictions_grapheme = []\n",
    "    predictions_vowel = []\n",
    "    predictions_consonant = []\n",
    "    \n",
    "    actual_grapheme = []\n",
    "    actual_vowel = []\n",
    "    actual_consonant = []\n",
    "\n",
    "    for i in data_loader:\n",
    "        CustomNet.eval()\n",
    "        optimizer.zero_grad()\n",
    "        test_out = CustomNet(i['image'].to(device))\n",
    "\n",
    "        predicted_grapheme  = torch.argmax(test_out[0], dim=1)\n",
    "        predictions_grapheme.append(predicted_grapheme)\n",
    "        labels_grapheme = i['components'][:,:,0].squeeze().to(device)\n",
    "        actual_grapheme.append(labels_grapheme)\n",
    "        correct_grapheme += (predicted_grapheme  == labels_grapheme).sum().item()\n",
    "\n",
    "        predicted_vowel = torch.argmax(test_out[1], dim=1)\n",
    "        predictions_vowel.append(predicted_vowel)\n",
    "        labels_vowel = i['components'][:,:,1].squeeze().to(device)\n",
    "        actual_vowel.append(labels_vowel)\n",
    "        correct_vowel += (predicted_vowel == labels_vowel).sum().item()\n",
    "\n",
    "        predicted_consonant = torch.argmax(test_out[2], dim=1)\n",
    "        predictions_consonant.append(predicted_consonant)\n",
    "        labels_consonant = i['components'][:,:,2].squeeze().to(device)\n",
    "        actual_consonant.append(labels_consonant)\n",
    "        correct_consonant += (predicted_consonant == labels_consonant).sum().item()\n",
    "        \n",
    "        total += labels_consonant.shape[0]\n",
    "\n",
    "\n",
    "    return {\n",
    "            \"grapheme_acc\": correct_grapheme/total*100, \n",
    "            \"vowel_acc\":correct_vowel/total*100, \n",
    "            \"consonant_acc\":correct_consonant/total*100,\n",
    "            \"predictions_grapheme\":torch.cat(predictions_grapheme),\n",
    "            \"predictions_vowel\":torch.cat(predictions_vowel),\n",
    "            \"predictions_consonant\":torch.cat(predictions_consonant),\n",
    "            \"actual_grapheme\":torch.cat(actual_grapheme),\n",
    "            \"actual_vowel\":torch.cat(actual_vowel),\n",
    "            \"actual_consonant\":torch.cat(actual_consonant),\n",
    "           }"
   ]
  },
  {
   "cell_type": "code",
   "execution_count": 5,
   "metadata": {},
   "outputs": [],
   "source": [
    "class AppendNet(nn.Module):\n",
    "    def __init__(self):\n",
    "        super(AppendNet, self).__init__()\n",
    "        self.start = nn.Linear(1000, 1000)\n",
    "        self.fc_root = nn.Linear(1000, 168)\n",
    "        self.fc_vowel = nn.Linear(1000, 11)\n",
    "        self.fc_consonant = nn.Linear(1000, 7)\n",
    "    \n",
    "    def forward(self, x):\n",
    "        root_prob = self.fc_root(F.relu(self.start(x)))\n",
    "        vowel_prob = self.fc_vowel(F.relu(self.start(x)))\n",
    "        consonant_prob = self.fc_consonant(F.relu(self.start(x)))\n",
    "        return root_prob, vowel_prob, consonant_prob\n",
    "\n",
    "vgg = models.vgg11(True)"
   ]
  },
  {
   "cell_type": "code",
   "execution_count": 6,
   "metadata": {},
   "outputs": [],
   "source": [
    "CustomNet = nn.Sequential(vgg, AppendNet()).to(device)\n",
    "\n",
    "criterion = nn.CrossEntropyLoss()\n",
    "\n",
    "\n",
    "loss1_list = []\n",
    "loss2_list = []\n",
    "loss3_list = []\n",
    "cnt=0\n",
    "\n",
    "params_to_update = []\n",
    "for name,param in CustomNet.named_parameters():\n",
    "    if param.requires_grad == True:\n",
    "        params_to_update.append(param)"
   ]
  },
  {
   "cell_type": "code",
   "execution_count": 8,
   "metadata": {},
   "outputs": [
    {
     "name": "stdout",
     "output_type": "stream",
     "text": [
      "Training accuracy:\n",
      "Grapheme: 0.5881547500497909 Vowel: 18.253958374825732 Consonant: 8.681039633539136\n",
      "Validation accuracy:\n",
      "Grapheme: 0.5028878709420435 Vowel: 18.238398725353516 Consonant: 8.725851424019119\n"
     ]
    }
   ],
   "source": [
    "optimizer = optim.Adam(params_to_update, lr=5e-4, amsgrad=True)\n",
    "\n",
    "print(\"Training accuracy:\")\n",
    "train_stats = calc_dataset_loss(train_dataloader)\n",
    "print(\"Grapheme:\", train_stats['grapheme_acc'], \"Vowel:\", train_stats['vowel_acc'], \"Consonant:\", train_stats['consonant_acc'])\n",
    "print(\"Validation accuracy:\")\n",
    "val_stats = calc_dataset_loss(val_dataloader)\n",
    "print(\"Grapheme:\", val_stats['grapheme_acc'], \"Vowel:\", val_stats['vowel_acc'], \"Consonant:\", val_stats['consonant_acc'])"
   ]
  },
  {
   "cell_type": "code",
   "execution_count": 9,
   "metadata": {},
   "outputs": [],
   "source": [
    "train_grapheme = []\n",
    "train_vowel = []\n",
    "train_consonant = []\n",
    "\n",
    "val_grapheme = []\n",
    "val_vowel = []\n",
    "val_consonant = []"
   ]
  },
  {
   "cell_type": "code",
   "execution_count": 10,
   "metadata": {},
   "outputs": [
    {
     "data": {
      "application/vnd.jupyter.widget-view+json": {
       "model_id": "3e0330733c2b41bfb6c7d33186a15a37",
       "version_major": 2,
       "version_minor": 0
      },
      "text/plain": [
       "HBox(children=(FloatProgress(value=0.0, description='Epochs', max=15.0, style=ProgressStyle(description_width=…"
      ]
     },
     "metadata": {},
     "output_type": "display_data"
    },
    {
     "data": {
      "application/vnd.jupyter.widget-view+json": {
       "model_id": "17f28f9d214543dfab377d5e2314fea2",
       "version_major": 2,
       "version_minor": 0
      },
      "text/plain": [
       "HBox(children=(FloatProgress(value=0.0, description='DataLoader', max=5021.0, style=ProgressStyle(description_…"
      ]
     },
     "metadata": {},
     "output_type": "display_data"
    },
    {
     "name": "stdout",
     "output_type": "stream",
     "text": [
      "\n"
     ]
    },
    {
     "data": {
      "application/vnd.jupyter.widget-view+json": {
       "model_id": "9617a99d80fe43a39408b232b3ab2935",
       "version_major": 2,
       "version_minor": 0
      },
      "text/plain": [
       "HBox(children=(FloatProgress(value=0.0, description='DataLoader', max=5021.0, style=ProgressStyle(description_…"
      ]
     },
     "metadata": {},
     "output_type": "display_data"
    },
    {
     "name": "stdout",
     "output_type": "stream",
     "text": [
      "\n"
     ]
    },
    {
     "data": {
      "application/vnd.jupyter.widget-view+json": {
       "model_id": "e7f90d493a024bfaac1b80192245f6c4",
       "version_major": 2,
       "version_minor": 0
      },
      "text/plain": [
       "HBox(children=(FloatProgress(value=0.0, description='DataLoader', max=5021.0, style=ProgressStyle(description_…"
      ]
     },
     "metadata": {},
     "output_type": "display_data"
    },
    {
     "name": "stdout",
     "output_type": "stream",
     "text": [
      "\n"
     ]
    },
    {
     "data": {
      "application/vnd.jupyter.widget-view+json": {
       "model_id": "da608384cc0a490aa6bc4dae7cb0b6d8",
       "version_major": 2,
       "version_minor": 0
      },
      "text/plain": [
       "HBox(children=(FloatProgress(value=0.0, description='DataLoader', max=5021.0, style=ProgressStyle(description_…"
      ]
     },
     "metadata": {},
     "output_type": "display_data"
    },
    {
     "name": "stdout",
     "output_type": "stream",
     "text": [
      "\n"
     ]
    },
    {
     "data": {
      "application/vnd.jupyter.widget-view+json": {
       "model_id": "939832132af846f68532b5144f58a938",
       "version_major": 2,
       "version_minor": 0
      },
      "text/plain": [
       "HBox(children=(FloatProgress(value=0.0, description='DataLoader', max=5021.0, style=ProgressStyle(description_…"
      ]
     },
     "metadata": {},
     "output_type": "display_data"
    },
    {
     "name": "stdout",
     "output_type": "stream",
     "text": [
      "\n"
     ]
    },
    {
     "data": {
      "application/vnd.jupyter.widget-view+json": {
       "model_id": "f289ce6a17e944f692d2f42d8f510187",
       "version_major": 2,
       "version_minor": 0
      },
      "text/plain": [
       "HBox(children=(FloatProgress(value=0.0, description='DataLoader', max=5021.0, style=ProgressStyle(description_…"
      ]
     },
     "metadata": {},
     "output_type": "display_data"
    },
    {
     "name": "stdout",
     "output_type": "stream",
     "text": [
      "\n"
     ]
    },
    {
     "data": {
      "application/vnd.jupyter.widget-view+json": {
       "model_id": "0aa2262cdbf049b19b39fe505969d9d3",
       "version_major": 2,
       "version_minor": 0
      },
      "text/plain": [
       "HBox(children=(FloatProgress(value=0.0, description='DataLoader', max=5021.0, style=ProgressStyle(description_…"
      ]
     },
     "metadata": {},
     "output_type": "display_data"
    },
    {
     "name": "stdout",
     "output_type": "stream",
     "text": [
      "\n"
     ]
    },
    {
     "data": {
      "application/vnd.jupyter.widget-view+json": {
       "model_id": "d86cdf691e71413e9380f8b5bdd4ed8a",
       "version_major": 2,
       "version_minor": 0
      },
      "text/plain": [
       "HBox(children=(FloatProgress(value=0.0, description='DataLoader', max=5021.0, style=ProgressStyle(description_…"
      ]
     },
     "metadata": {},
     "output_type": "display_data"
    },
    {
     "name": "stdout",
     "output_type": "stream",
     "text": [
      "\n"
     ]
    },
    {
     "data": {
      "application/vnd.jupyter.widget-view+json": {
       "model_id": "90e15a32f6f24590a0610cd8bdf26f5a",
       "version_major": 2,
       "version_minor": 0
      },
      "text/plain": [
       "HBox(children=(FloatProgress(value=0.0, description='DataLoader', max=5021.0, style=ProgressStyle(description_…"
      ]
     },
     "metadata": {},
     "output_type": "display_data"
    },
    {
     "name": "stdout",
     "output_type": "stream",
     "text": [
      "\n"
     ]
    },
    {
     "data": {
      "application/vnd.jupyter.widget-view+json": {
       "model_id": "59196c81102642cea8d21757c156b041",
       "version_major": 2,
       "version_minor": 0
      },
      "text/plain": [
       "HBox(children=(FloatProgress(value=0.0, description='DataLoader', max=5021.0, style=ProgressStyle(description_…"
      ]
     },
     "metadata": {},
     "output_type": "display_data"
    },
    {
     "name": "stdout",
     "output_type": "stream",
     "text": [
      "\n"
     ]
    },
    {
     "data": {
      "application/vnd.jupyter.widget-view+json": {
       "model_id": "b3043c550da34615ac91dc4511bbde1f",
       "version_major": 2,
       "version_minor": 0
      },
      "text/plain": [
       "HBox(children=(FloatProgress(value=0.0, description='DataLoader', max=5021.0, style=ProgressStyle(description_…"
      ]
     },
     "metadata": {},
     "output_type": "display_data"
    },
    {
     "name": "stdout",
     "output_type": "stream",
     "text": [
      "\n"
     ]
    },
    {
     "data": {
      "application/vnd.jupyter.widget-view+json": {
       "model_id": "9b7e0620af42471e871967aaa2003667",
       "version_major": 2,
       "version_minor": 0
      },
      "text/plain": [
       "HBox(children=(FloatProgress(value=0.0, description='DataLoader', max=5021.0, style=ProgressStyle(description_…"
      ]
     },
     "metadata": {},
     "output_type": "display_data"
    },
    {
     "name": "stdout",
     "output_type": "stream",
     "text": [
      "\n"
     ]
    },
    {
     "data": {
      "application/vnd.jupyter.widget-view+json": {
       "model_id": "9dd1bb7af4fa433caee7992798018536",
       "version_major": 2,
       "version_minor": 0
      },
      "text/plain": [
       "HBox(children=(FloatProgress(value=0.0, description='DataLoader', max=5021.0, style=ProgressStyle(description_…"
      ]
     },
     "metadata": {},
     "output_type": "display_data"
    },
    {
     "name": "stdout",
     "output_type": "stream",
     "text": [
      "\n"
     ]
    },
    {
     "data": {
      "application/vnd.jupyter.widget-view+json": {
       "model_id": "7e904884042a47bbbeefb3a8dcaecbb2",
       "version_major": 2,
       "version_minor": 0
      },
      "text/plain": [
       "HBox(children=(FloatProgress(value=0.0, description='DataLoader', max=5021.0, style=ProgressStyle(description_…"
      ]
     },
     "metadata": {},
     "output_type": "display_data"
    },
    {
     "name": "stdout",
     "output_type": "stream",
     "text": [
      "\n"
     ]
    },
    {
     "data": {
      "application/vnd.jupyter.widget-view+json": {
       "model_id": "c6666c362f0b43c29340435dc58d43f8",
       "version_major": 2,
       "version_minor": 0
      },
      "text/plain": [
       "HBox(children=(FloatProgress(value=0.0, description='DataLoader', max=5021.0, style=ProgressStyle(description_…"
      ]
     },
     "metadata": {},
     "output_type": "display_data"
    },
    {
     "name": "stdout",
     "output_type": "stream",
     "text": [
      "\n",
      "\n"
     ]
    }
   ],
   "source": [
    "for epoch in tqdm(range(15), desc='Epochs'):\n",
    "    running_loss1 = 0\n",
    "    running_loss2 = 0\n",
    "    running_loss3 = 0\n",
    "    for i in tqdm(train_dataloader, desc='DataLoader'):\n",
    "        CustomNet.train()\n",
    "        cnt+=1\n",
    "        optimizer.zero_grad()\n",
    "        test_out = CustomNet(i['image'].to(device))\n",
    "        loss1 = criterion(test_out[0], i['components'][:,:,0].squeeze(1).to(device))\n",
    "        loss2 = criterion(test_out[1], i['components'][:,:,1].squeeze(1).to(device))\n",
    "        loss3 = criterion(test_out[2], i['components'][:,:,2].squeeze(1).to(device))\n",
    "\n",
    "        loss1_list.append(loss1.item())\n",
    "        loss2_list.append(loss2.item())\n",
    "        loss3_list.append(loss3.item())\n",
    "\n",
    "        running_loss1+=loss1.item()\n",
    "        running_loss2+=loss2.item()\n",
    "        running_loss3+=loss3.item()\n",
    "\n",
    "        loss1.backward(retain_graph=True)\n",
    "        loss2.backward(retain_graph=True)\n",
    "        loss3.backward()\n",
    "\n",
    "        optimizer.step()\n",
    "\n",
    "    train_stats = calc_dataset_loss(train_dataloader)\n",
    "    train_grapheme.append(train_stats['grapheme_acc'])\n",
    "    train_vowel.append(train_stats['vowel_acc'])\n",
    "    train_consonant.append(train_stats['consonant_acc'])\n",
    "    \n",
    "    val_stats = calc_dataset_loss(val_dataloader)\n",
    "    val_grapheme.append(val_stats['grapheme_acc'])\n",
    "    val_vowel.append(val_stats['vowel_acc'])\n",
    "    val_consonant.append(val_stats['consonant_acc'])"
   ]
  },
  {
   "cell_type": "code",
   "execution_count": 11,
   "metadata": {},
   "outputs": [
    {
     "data": {
      "text/plain": [
       "[<matplotlib.lines.Line2D at 0x7f3896ca6860>]"
      ]
     },
     "execution_count": 11,
     "metadata": {},
     "output_type": "execute_result"
    },
    {
     "data": {
      "image/png": "[encoded data removed]",
      "text/plain": [
       "<Figure size 432x288 with 1 Axes>"
      ]
     },
     "metadata": {
      "needs_background": "light"
     },
     "output_type": "display_data"
    }
   ],
   "source": [
    "plt.plot(train_grapheme)"
   ]
  },
  {
   "cell_type": "code",
   "execution_count": 12,
   "metadata": {},
   "outputs": [],
   "source": [
    "val_stats = calc_dataset_loss(val_dataloader)"
   ]
  },
  {
   "cell_type": "code",
   "execution_count": 13,
   "metadata": {},
   "outputs": [
    {
     "name": "stdout",
     "output_type": "stream",
     "text": [
      "torch.Size([40168]) torch.Size([40168])\n"
     ]
    }
   ],
   "source": [
    "print(val_stats['predictions_grapheme'].shape, val_stats['actual_grapheme'].shape)"
   ]
  },
  {
   "cell_type": "code",
   "execution_count": 14,
   "metadata": {},
   "outputs": [],
   "source": [
    "from sklearn.metrics import confusion_matrix"
   ]
  },
  {
   "cell_type": "code",
   "execution_count": 31,
   "metadata": {},
   "outputs": [
    {
     "name": "stdout",
     "output_type": "stream",
     "text": [
      "[0.96551724 0.93103448 0.94117647 0.84375    0.94029851 1.\n",
      " 0.91803279 0.74193548 0.77419355 0.93258427 0.83333333 0.73333333\n",
      " 0.93103448 0.95124195 0.91875    0.94009217 0.95238095 0.96052632\n",
      " 0.89939024 0.82142857 0.88059701 0.94680851 0.89544688 0.94157741\n",
      " 0.92537313 0.88888889 0.91176471 0.95081967 0.90066225 0.87971275\n",
      " 0.86206897 0.79605263 0.72687225 0.81481481 0.89090909 0.88421053\n",
      " 0.92718447 0.8245614  0.95081967 0.94308943 0.94039735 0.95081967\n",
      " 0.92091837 0.92955801 0.93364929 0.86206897 0.76724138 0.89010989\n",
      " 0.92753623 0.953125   0.93197279 0.89230769 0.88770053 0.89566396\n",
      " 0.76470588 0.93175074 0.91465677 0.88976378 0.91860465 0.85074627\n",
      " 0.71428571 0.65217391 0.67241379 0.86666667 0.94012511 0.90842491\n",
      " 0.96855346 0.91578947 0.81889764 0.88815789 0.90104167 0.96928328\n",
      " 0.95470383 0.84615385 0.98688525 0.95111111 0.89119171 0.93193717\n",
      " 0.86440678 0.90882779 0.88888889 0.89259797 0.82758621 0.84859155\n",
      " 0.59340659 0.76642336 0.9354067  0.85294118 0.91447368 0.96336207\n",
      " 0.928      0.93485342 0.94196429 0.82258065 0.91237113 0.86896552\n",
      " 0.95218718 0.96907216 0.944      0.91208791 0.75555556 0.89400922\n",
      " 0.82142857 0.94934877 0.875      0.8        0.9602649  0.95112782\n",
      " 0.71875    0.93370166 0.83823529 0.87261146 0.95480226 0.87030717\n",
      " 1.         0.92431762 0.82758621 0.84640523 0.88986784 0.85064935\n",
      " 0.77593361 0.92391304 0.82034632 0.93012048 0.91304348 0.96296296\n",
      " 0.9375     0.92432432 0.93157895 0.93298969 0.89655172 0.96629213\n",
      " 0.88405797 0.93856655 0.95967742 0.78740157 0.92380952 0.91964286\n",
      " 0.93548387 0.93304536 0.80113636 0.81714286 0.89671362 0.96694215\n",
      " 0.82113821 0.84126984 0.86666667 0.912      0.87826087 0.96033403\n",
      " 0.91341991 0.89156627 0.83471074 0.88387097 0.84353741 0.89304813\n",
      " 0.89873418 0.8        0.86206897 0.95267176 0.96875    0.88709677\n",
      " 0.76086957 0.90909091 0.93939394 0.89519651 0.9516129  0.90851735]\n"
     ]
    }
   ],
   "source": [
    "grapheme_cf = confusion_matrix(val_stats['actual_grapheme'].cpu().numpy(), val_stats['predictions_grapheme'].cpu().numpy())\n",
    "grapheme_cf = grapheme_cf.astype('float') / grapheme_cf.sum(axis=1)[:, np.newaxis]\n",
    "print(grapheme_cf.diagonal())"
   ]
  },
  {
   "cell_type": "code",
   "execution_count": 23,
   "metadata": {},
   "outputs": [
    {
     "data": {
      "image/png": "[encoded data removed]",
      "text/plain": [
       "<Figure size 720x504 with 2 Axes>"
      ]
     },
     "metadata": {
      "needs_background": "light"
     },
     "output_type": "display_data"
    }
   ],
   "source": [
    "vowel_cf = confusion_matrix(val_stats['actual_vowel'].cpu().numpy(), val_stats['predictions_vowel'].cpu().numpy())\n",
    "vowel_cf = vowel_cf.astype('float') / vowel_cf.sum(axis=1)[:, np.newaxis]\n",
    "df_cm = pd.DataFrame(vowel_cf, range(vowel_cf.shape[0]), range(vowel_cf.shape[0]))\n",
    "plt.figure(figsize = (10,7))\n",
    "sn.heatmap(df_cm, annot=True)# font size\n",
    "plt.show()"
   ]
  },
  {
   "cell_type": "code",
   "execution_count": 21,
   "metadata": {},
   "outputs": [
    {
     "data": {
      "image/png": "[encoded data removed]",
      "text/plain": [
       "<Figure size 720x504 with 2 Axes>"
      ]
     },
     "metadata": {
      "needs_background": "light"
     },
     "output_type": "display_data"
    }
   ],
   "source": [
    "consonant_cf = confusion_matrix(val_stats['actual_consonant'].cpu().numpy(), val_stats['predictions_consonant'].cpu().numpy())\n",
    "consonant_cf = consonant_cf.astype('float') / consonant_cf.sum(axis=1)[:, np.newaxis]\n",
    "df_cm = pd.DataFrame(consonant_cf, range(consonant_cf.shape[0]), range(consonant_cf.shape[0]))\n",
    "plt.figure(figsize = (10,7))\n",
    "sn.heatmap(df_cm, annot=True)# font size\n",
    "plt.show()"
   ]
  }
 ],
 "metadata": {
  "kernelspec": {
   "display_name": "Python 3",
   "language": "python",
   "name": "python3"
  },
  "language_info": {
   "codemirror_mode": {
    "name": "ipython",
    "version": 3
   },
   "file_extension": ".py",
   "mimetype": "text/x-python",
   "name": "python",
   "nbconvert_exporter": "python",
   "pygments_lexer": "ipython3",
   "version": "3.6.8"
  }
 },
 "nbformat": 4,
 "nbformat_minor": 2
}
